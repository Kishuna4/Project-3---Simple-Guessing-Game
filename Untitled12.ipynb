{
 "cells": [
  {
   "cell_type": "code",
   "execution_count": null,
   "metadata": {},
   "outputs": [],
   "source": []
  },
  {
   "cell_type": "code",
   "execution_count": 7,
   "metadata": {},
   "outputs": [
    {
     "name": "stdin",
     "output_type": "stream",
     "text": [
      "Enter your guess between 1 and 100: 50\n"
     ]
    },
    {
     "name": "stdout",
     "output_type": "stream",
     "text": [
      "lower\n"
     ]
    },
    {
     "name": "stdin",
     "output_type": "stream",
     "text": [
      "Enter your guess between 1 and 100: 25\n"
     ]
    },
    {
     "name": "stdout",
     "output_type": "stream",
     "text": [
      "lower\n"
     ]
    },
    {
     "name": "stdin",
     "output_type": "stream",
     "text": [
      "Enter your guess between 1 and 100: 13\n"
     ]
    },
    {
     "name": "stdout",
     "output_type": "stream",
     "text": [
      "higher\n"
     ]
    },
    {
     "name": "stdin",
     "output_type": "stream",
     "text": [
      "Enter your guess between 1 and 100: 20\n"
     ]
    },
    {
     "name": "stdout",
     "output_type": "stream",
     "text": [
      "higher\n"
     ]
    },
    {
     "name": "stdin",
     "output_type": "stream",
     "text": [
      "Enter your guess between 1 and 100: 22\n"
     ]
    },
    {
     "name": "stdout",
     "output_type": "stream",
     "text": [
      "higher\n"
     ]
    },
    {
     "name": "stdin",
     "output_type": "stream",
     "text": [
      "Enter your guess between 1 and 100: 23\n"
     ]
    },
    {
     "name": "stdout",
     "output_type": "stream",
     "text": [
      "You got it!\n",
      "You took 5 attempts!\n",
      "computer took Nonesteps\n"
     ]
    }
   ],
   "source": [
    "import random\n",
    "\n",
    "def computer_guess(lowval, highval, randnum, count = 0):\n",
    "    if highval >= lowval:\n",
    "        guess = lowval + (highval - lowval) // 2\n",
    "        count += 1\n",
    "        if guess == randnum:\n",
    "            return count\n",
    "\n",
    "        elif guess > randnum:\n",
    "            count = count + 1\n",
    "            return computer_guess(lowval, guess-1, randnum, count)\n",
    "    else:\n",
    "        return -1\n",
    "\n",
    "#produce a randomnumber between 1 and 100\n",
    "randnum = random.randint(1, 101)\n",
    "lowval = 1\n",
    "highval = 100\n",
    "count = 0\n",
    "guess = -99\n",
    "while (guess != randnum):\n",
    "    #Get the user's guess\n",
    "    guess = (int) (input(\"Enter your guess between 1 and 100:\"))\n",
    "    if guess < randnum:\n",
    "     print(\"higher\")\n",
    "    elif guess > randnum:\n",
    "        print(\"lower\")\n",
    "    else:\n",
    "        print(\"You got it!\")\n",
    "        break\n",
    "    count = count + 1\n",
    "#end of while loop\n",
    "\n",
    "print(\"You took \" + str(count) + \" attempts!\")\n",
    "print(\"computer took \" + str(computer_guess(0, 100, randnum)) + \"steps\")"
   ]
  },
  {
   "cell_type": "code",
   "execution_count": null,
   "metadata": {},
   "outputs": [],
   "source": []
  }
 ],
 "metadata": {
  "kernelspec": {
   "display_name": "Python 3",
   "language": "python",
   "name": "python3"
  },
  "language_info": {
   "codemirror_mode": {
    "name": "ipython",
    "version": 3
   },
   "file_extension": ".py",
   "mimetype": "text/x-python",
   "name": "python",
   "nbconvert_exporter": "python",
   "pygments_lexer": "ipython3",
   "version": "3.8.3"
  }
 },
 "nbformat": 4,
 "nbformat_minor": 4
}
